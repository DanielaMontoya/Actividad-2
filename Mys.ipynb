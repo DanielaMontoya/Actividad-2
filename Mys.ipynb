{
  "nbformat": 4,
  "nbformat_minor": 0,
  "metadata": {
    "colab": {
      "name": "Mys_1.ipynb",
      "provenance": [],
      "collapsed_sections": [],
      "include_colab_link": true
    },
    "kernelspec": {
      "name": "python3",
      "display_name": "Python 3"
    }
  },
  "cells": [
    {
      "cell_type": "markdown",
      "metadata": {
        "id": "view-in-github",
        "colab_type": "text"
      },
      "source": [
        "<a href=\"https://colab.research.google.com/github/DanielaMontoya/Actividad-2/blob/master/Mys.ipynb\" target=\"_parent\"><img src=\"https://colab.research.google.com/assets/colab-badge.svg\" alt=\"Open In Colab\"/></a>"
      ]
    },
    {
      "cell_type": "markdown",
      "metadata": {
        "id": "dbZ8SXylR0-V",
        "colab_type": "text"
      },
      "source": [
        "**ECUACION DIFERENCIAL**\n",
        "\n",
        "Dada la ecuación diferencial:\n",
        "\n",
        "$\\dot x = 4x^2-16$"
      ]
    },
    {
      "cell_type": "code",
      "metadata": {
        "id": "Us8BZ7zVSN-o",
        "colab_type": "code",
        "colab": {}
      },
      "source": [
        "import matplotlib.style\n",
        "matplotlib.style.use('classic')\n",
        "import numpy as np\n",
        "from matplotlib import pyplot as plt\n",
        "from scipy.integrate import solve_ivp\n",
        "import math \n",
        "\n",
        "%matplotlib inline"
      ],
      "execution_count": 0,
      "outputs": []
    },
    {
      "cell_type": "code",
      "metadata": {
        "id": "rYHhPTC_IuTf",
        "colab_type": "code",
        "outputId": "39859f5d-7497-4e71-995c-9456429c84b5",
        "colab": {
          "base_uri": "https://localhost:8080/",
          "height": 253
        }
      },
      "source": [
        "x = np.arange(-6,6,.1)\n",
        "x_dont = 4*(x**2) - 16\n",
        "\n",
        "fig=plt.figure()\n",
        "ax=fig.add_subplot(1,1,1)\n",
        "\n",
        "\n",
        "ax.spines['left'].set_position(('data',0.0))\n",
        "ax.spines['bottom'].set_position(('data',0.0))\n",
        "ax.spines['top'].set_color('none')\n",
        "ax.spines['right'].set_color('none')\n",
        "\n",
        "ax.set_xticks([-4,-2,2,4])\n",
        "ax.set_yticks([-20,20,40,60])\n",
        "\n",
        "plt.plot(x,x_dont)\n",
        "plt.show()"
      ],
      "execution_count": 90,
      "outputs": [
        {
          "output_type": "display_data",
          "data": {
            "image/png": "[encoded data removed]",
            "text/plain": [
              "<Figure size 432x288 with 1 Axes>"
            ]
          },
          "metadata": {
            "tags": [],
            "needs_background": "light"
          }
        }
      ]
    },
    {
      "cell_type": "markdown",
      "metadata": {
        "id": "IlAdp5QkObBe",
        "colab_type": "text"
      },
      "source": [
        "**MÉTODO DE EULER**\n",
        "\n",
        "Es un procedimiento de integración numérica para resolver ecuaciones diferenciales ordinarias (EDO) a partir de un valor inicial dado. Es un método iterativo que a partir de un valor inicial emplea la derivada para conocer la pendiente de la recta tangente en ese punto, para luego trazar una recta hasta el siguente valor con un incremento h.\n",
        "\n",
        "$x_{i+1} = x_{i} + hf_{(t_i, x_i)}$"
      ]
    },
    {
      "cell_type": "code",
      "metadata": {
        "id": "JMmce1V1NimM",
        "colab_type": "code",
        "colab": {}
      },
      "source": [
        "def euler(func, h, tini, tfin, xin):\n",
        "    ti = tini  \n",
        "    xi = xin\n",
        "  \n",
        "    x = list()\n",
        "    t = list()\n",
        "  \n",
        "    while ( ti < tfin ):\n",
        "    \n",
        "      x.append (xi)\n",
        "      t.append (ti)\n",
        "  \n",
        "      xi = xi + h*func(ti,xi)\n",
        "      ti = ti + h\n",
        "    return t, x    "
      ],
      "execution_count": 0,
      "outputs": []
    },
    {
      "cell_type": "markdown",
      "metadata": {
        "id": "khlzf912ZL2w",
        "colab_type": "text"
      },
      "source": [
        "**FLUJO**\n",
        "\n",
        "Una manera práctica de entender el flujo es graficando un campo vertorial, es decir, gráfico $\\dot x$ contra x\n",
        "de esta manera el flujo estará hacia la derecha cuando $\\dot x > 0$ y se acerca asintoticamente al punto fijo estable mas cercano, lo mismo pasa cuando $\\dot x < 0$, el flujo va a la izquierda;  no habra flujo cuando x=0, llamandosele a estos puntos fijos estables o inestables."
      ]
    },
    {
      "cell_type": "markdown",
      "metadata": {
        "id": "fDcBt-WInSsh",
        "colab_type": "text"
      },
      "source": [
        "**ESTABILIDAD**\n",
        "\n",
        "El equilibrio se define estable si todas las perturbaciones son realmente pequeñas, y al pasar el tiempo se iran amortiguando, se representan con puntos fijos estables. Se define inestable cuando las perturbaciones crecen en el tiempo, estas se representan con puntos fijos inestables.\n",
        "los puntos fijos son soluciones de equilibrio. \n",
        "\n"
      ]
    },
    {
      "cell_type": "markdown",
      "metadata": {
        "id": "G2FbuL4F0D41",
        "colab_type": "text"
      },
      "source": [
        "* $\\dot x= 4x^2-16$  \n",
        "\n",
        "  $4x^2-16=0$\n",
        "\n",
        "  $x= \\pm 2$ -> puntos de equilibrio\n",
        "\n",
        "*   $\\frac {d}{dx}(4x^2-16) =8x$\n",
        "\n",
        "  $→$ ${\\displaystyle \\forall } x>0$ estable\n",
        "  \n",
        "  $→$ ${\\displaystyle \\forall } x<0$\n",
        "inestable\n",
        "\n",
        "\n"
      ]
    },
    {
      "cell_type": "markdown",
      "metadata": {
        "id": "HdjQakCzWs56",
        "colab_type": "text"
      },
      "source": [
        "\n",
        "Iniciacion del sistema:"
      ]
    },
    {
      "cell_type": "code",
      "metadata": {
        "id": "BVrLgIMSjKcJ",
        "colab_type": "code",
        "colab": {}
      },
      "source": [
        "def sistema1(t, x,):\n",
        "    x_dot = 4*pow(x,(2))-16\n",
        "    return x_dot"
      ],
      "execution_count": 0,
      "outputs": []
    },
    {
      "cell_type": "markdown",
      "metadata": {
        "id": "KXLoA4qkYFMc",
        "colab_type": "text"
      },
      "source": [
        "Con lo anterior se puede inferir que hay dos puntos de equilibrio, uno en -2 y otro en 2. En el siguiente fragmento se realizara la simulacion en la vecindad de los esquilibrios obtenidos anteriormente."
      ]
    },
    {
      "cell_type": "code",
      "metadata": {
        "id": "I3vil_FQXV_V",
        "colab_type": "code",
        "colab": {
          "base_uri": "https://localhost:8080/",
          "height": 70
        },
        "outputId": "29de1a5e-ae5b-4323-bd09-a9d0f5511249"
      },
      "source": [
        "h = 0.1\n",
        "tini = -7\n",
        "tfin = 6\n",
        "xin = 1\n",
        "\n",
        "\n",
        "t1,x1 = euler( sistema1, h, tini, tfin, xin)\n",
        "\n",
        "t = np.linspace(-6,6,1000)\n",
        "x = ((1/16)*((np.log10(2-(t+6))-np.log10((t+6)+2))))\n",
        "\n"
      ],
      "execution_count": 93,
      "outputs": [
        {
          "output_type": "stream",
          "text": [
            "/usr/local/lib/python3.6/dist-packages/ipykernel_launcher.py:10: RuntimeWarning: invalid value encountered in log10\n",
            "  # Remove the CWD from sys.path while we load stuff.\n"
          ],
          "name": "stderr"
        }
      ]
    },
    {
      "cell_type": "code",
      "metadata": {
        "id": "yNF4cLAYkP4l",
        "colab_type": "code",
        "outputId": "ece1d91b-18be-42f3-c7d5-87e792744074",
        "colab": {
          "base_uri": "https://localhost:8080/",
          "height": 288
        }
      },
      "source": [
        "plt.figure()\n",
        "# gráfica de analítica:\n",
        "#plt.plot(  t, x, 'black', label = 'Analytical', linewidth = 2)\n",
        "# gráfica de euler:\n",
        "plt.scatter( t1, x1, c = 'crimson', label = 'Euler', s = 50)\n",
        "\n",
        "plt.xlim([tini, tfin])\n",
        "plt.xlabel(r'$t$')\n",
        "plt.grid()\n",
        "plt.legend(loc = 'best')\n",
        "plt.show()\n",
        "\n"
      ],
      "execution_count": 94,
      "outputs": [
        {
          "output_type": "display_data",
          "data": {
            "image/png": "[encoded data removed]",
            "text/plain": [
              "<Figure size 432x288 with 1 Axes>"
            ]
          },
          "metadata": {
            "tags": [],
            "needs_background": "light"
          }
        }
      ]
    },
    {
      "cell_type": "code",
      "metadata": {
        "id": "0lUXBhMmnKDB",
        "colab_type": "code",
        "colab": {
          "base_uri": "https://localhost:8080/",
          "height": 272
        },
        "outputId": "d526c14e-859c-49c6-ca17-b50e9791e998"
      },
      "source": [
        "def dx(t,x,a,b): return a*(x**2)-b\n",
        "\n",
        "a,b = 4,16\n",
        "x0=np.array([-6,-4,-3,-2,-1,0,1.5,1.95,2,2.0001])\n",
        "tspan=[0,.6]\n",
        "sol = solve_ivp(dx, tspan, x0,args=(a,b),\\\n",
        "                dense_output = True)\n",
        "\n",
        "t = np.linspace(tspan[0],tspan[1],101)\n",
        "x = sol.sol(t)\n",
        "for i in range(x0.size):\n",
        "  plt.plot(t,x[i])\n",
        "plt.show()\n",
        "\n"
      ],
      "execution_count": 98,
      "outputs": [
        {
          "output_type": "display_data",
          "data": {
            "image/png": "[encoded data removed]",
            "text/plain": [
              "<Figure size 432x288 with 1 Axes>"
            ]
          },
          "metadata": {
            "tags": [],
            "needs_background": "light"
          }
        }
      ]
    },
    {
      "cell_type": "markdown",
      "metadata": {
        "id": "viSg7Pna8PaX",
        "colab_type": "text"
      },
      "source": [
        "**BIBLIOGRAFIA**\n",
        "\n",
        "wikipedia: https://es.wikipedia.org/wiki/M%C3%A9todo_de_Euler\n",
        "\n",
        "Colaboratory: Notas de clase modaledo y simulacion\n"
      ]
    }
  ]
}